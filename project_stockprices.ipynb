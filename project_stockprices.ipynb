{
 "cells": [
  {
   "cell_type": "code",
   "execution_count": 31,
   "id": "64485168",
   "metadata": {},
   "outputs": [],
   "source": [
    "# Imports\n",
    "from scipy import stats\n",
    "import yfinance as yf\n",
    "import pandas as pd\n",
    "from statsmodels.tsa.stattools import adfuller, kpss, acf, pacf, q_stat\n",
    "from arch.unitroot import PhillipsPerron\n",
    "from statsmodels.tsa.stattools import grangercausalitytests\n",
    "import statsmodels.api as sm\n",
    "import yfinance as yf\n",
    "import pandas as pd\n",
    "import numpy as np"
   ]
  },
  {
   "cell_type": "code",
   "execution_count": 2,
   "id": "5f8e96f6",
   "metadata": {},
   "outputs": [
    {
     "name": "stdout",
     "output_type": "stream",
     "text": [
      "YF.download() has changed argument auto_adjust default to True\n"
     ]
    },
    {
     "name": "stderr",
     "output_type": "stream",
     "text": [
      "[*********************100%***********************]  1 of 1 completed\n"
     ]
    }
   ],
   "source": [
    "# Baixar dados de ações da Microsoft para os últimos 10 anos usando yfinance\n",
    "msft = yf.download('MSFT',  start='2013-06-30', end='2023-06-30')\n",
    "msft.reset_index(inplace=True)\n"
   ]
  },
  {
   "cell_type": "code",
   "execution_count": 3,
   "id": "fdfd2476",
   "metadata": {},
   "outputs": [
    {
     "data": {
      "application/vnd.microsoft.datawrangler.viewer.v0+json": {
       "columns": [
        {
         "name": "index",
         "rawType": "int64",
         "type": "integer"
        },
        {
         "name": "('Date', '')",
         "rawType": "datetime64[ns]",
         "type": "datetime"
        },
        {
         "name": "('Close', 'MSFT')",
         "rawType": "float64",
         "type": "float"
        },
        {
         "name": "('High', 'MSFT')",
         "rawType": "float64",
         "type": "float"
        },
        {
         "name": "('Low', 'MSFT')",
         "rawType": "float64",
         "type": "float"
        },
        {
         "name": "('Open', 'MSFT')",
         "rawType": "float64",
         "type": "float"
        },
        {
         "name": "('Volume', 'MSFT')",
         "rawType": "int64",
         "type": "integer"
        }
       ],
       "ref": "bdb112ff-b230-4244-bb32-82ddd1575dc4",
       "rows": [
        [
         "0",
         "2013-07-01 00:00:00",
         "28.194316864013672",
         "28.711268244211166",
         "28.169701175014676",
         "28.51433334169695",
         "31055400"
        ],
        [
         "1",
         "2013-07-02 00:00:00",
         "27.849679946899414",
         "28.25995810060834",
         "27.595309494911174",
         "28.235342413041455",
         "37630000"
        ],
        [
         "2",
         "2013-07-03 00:00:00",
         "27.90711784362793",
         "28.202518606717593",
         "27.570689892369995",
         "27.61992439627621",
         "15994400"
        ],
        [
         "3",
         "2013-07-05 00:00:00",
         "28.071226119995117",
         "28.095844933872204",
         "27.554277981177467",
         "27.972760255007007",
         "26085900"
        ],
        [
         "4",
         "2013-07-08 00:00:00",
         "28.169702529907227",
         "28.383045815232666",
         "27.882505913684472",
         "28.18611090324637",
         "32396900"
        ]
       ],
       "shape": {
        "columns": 6,
        "rows": 5
       }
      },
      "text/html": [
       "<div>\n",
       "<style scoped>\n",
       "    .dataframe tbody tr th:only-of-type {\n",
       "        vertical-align: middle;\n",
       "    }\n",
       "\n",
       "    .dataframe tbody tr th {\n",
       "        vertical-align: top;\n",
       "    }\n",
       "\n",
       "    .dataframe thead tr th {\n",
       "        text-align: left;\n",
       "    }\n",
       "</style>\n",
       "<table border=\"1\" class=\"dataframe\">\n",
       "  <thead>\n",
       "    <tr>\n",
       "      <th>Price</th>\n",
       "      <th>Date</th>\n",
       "      <th>Close</th>\n",
       "      <th>High</th>\n",
       "      <th>Low</th>\n",
       "      <th>Open</th>\n",
       "      <th>Volume</th>\n",
       "    </tr>\n",
       "    <tr>\n",
       "      <th>Ticker</th>\n",
       "      <th></th>\n",
       "      <th>MSFT</th>\n",
       "      <th>MSFT</th>\n",
       "      <th>MSFT</th>\n",
       "      <th>MSFT</th>\n",
       "      <th>MSFT</th>\n",
       "    </tr>\n",
       "  </thead>\n",
       "  <tbody>\n",
       "    <tr>\n",
       "      <th>0</th>\n",
       "      <td>2013-07-01</td>\n",
       "      <td>28.194317</td>\n",
       "      <td>28.711268</td>\n",
       "      <td>28.169701</td>\n",
       "      <td>28.514333</td>\n",
       "      <td>31055400</td>\n",
       "    </tr>\n",
       "    <tr>\n",
       "      <th>1</th>\n",
       "      <td>2013-07-02</td>\n",
       "      <td>27.849680</td>\n",
       "      <td>28.259958</td>\n",
       "      <td>27.595309</td>\n",
       "      <td>28.235342</td>\n",
       "      <td>37630000</td>\n",
       "    </tr>\n",
       "    <tr>\n",
       "      <th>2</th>\n",
       "      <td>2013-07-03</td>\n",
       "      <td>27.907118</td>\n",
       "      <td>28.202519</td>\n",
       "      <td>27.570690</td>\n",
       "      <td>27.619924</td>\n",
       "      <td>15994400</td>\n",
       "    </tr>\n",
       "    <tr>\n",
       "      <th>3</th>\n",
       "      <td>2013-07-05</td>\n",
       "      <td>28.071226</td>\n",
       "      <td>28.095845</td>\n",
       "      <td>27.554278</td>\n",
       "      <td>27.972760</td>\n",
       "      <td>26085900</td>\n",
       "    </tr>\n",
       "    <tr>\n",
       "      <th>4</th>\n",
       "      <td>2013-07-08</td>\n",
       "      <td>28.169703</td>\n",
       "      <td>28.383046</td>\n",
       "      <td>27.882506</td>\n",
       "      <td>28.186111</td>\n",
       "      <td>32396900</td>\n",
       "    </tr>\n",
       "  </tbody>\n",
       "</table>\n",
       "</div>"
      ],
      "text/plain": [
       "Price        Date      Close       High        Low       Open    Volume\n",
       "Ticker                  MSFT       MSFT       MSFT       MSFT      MSFT\n",
       "0      2013-07-01  28.194317  28.711268  28.169701  28.514333  31055400\n",
       "1      2013-07-02  27.849680  28.259958  27.595309  28.235342  37630000\n",
       "2      2013-07-03  27.907118  28.202519  27.570690  27.619924  15994400\n",
       "3      2013-07-05  28.071226  28.095845  27.554278  27.972760  26085900\n",
       "4      2013-07-08  28.169703  28.383046  27.882506  28.186111  32396900"
      ]
     },
     "execution_count": 3,
     "metadata": {},
     "output_type": "execute_result"
    }
   ],
   "source": [
    "# %%\n",
    "msft.head()"
   ]
  },
  {
   "cell_type": "code",
   "execution_count": 4,
   "id": "d3dd5f64",
   "metadata": {},
   "outputs": [
    {
     "data": {
      "text/plain": [
       "MultiIndex([(  'Date',     ''),\n",
       "            ( 'Close', 'MSFT'),\n",
       "            (  'High', 'MSFT'),\n",
       "            (   'Low', 'MSFT'),\n",
       "            (  'Open', 'MSFT'),\n",
       "            ('Volume', 'MSFT')],\n",
       "           names=['Price', 'Ticker'])"
      ]
     },
     "execution_count": 4,
     "metadata": {},
     "output_type": "execute_result"
    }
   ],
   "source": [
    "# %% \n",
    "msft.columns"
   ]
  },
  {
   "cell_type": "code",
   "execution_count": null,
   "id": "51bb475e",
   "metadata": {},
   "outputs": [
    {
     "data": {
      "application/vnd.microsoft.datawrangler.viewer.v0+json": {
       "columns": [
        {
         "name": "index",
         "rawType": "object",
         "type": "string"
        },
        {
         "name": "('Date', '')",
         "rawType": "object",
         "type": "unknown"
        },
        {
         "name": "('Close', 'MSFT')",
         "rawType": "float64",
         "type": "float"
        },
        {
         "name": "('High', 'MSFT')",
         "rawType": "float64",
         "type": "float"
        },
        {
         "name": "('Low', 'MSFT')",
         "rawType": "float64",
         "type": "float"
        },
        {
         "name": "('Open', 'MSFT')",
         "rawType": "float64",
         "type": "float"
        },
        {
         "name": "('Volume', 'MSFT')",
         "rawType": "float64",
         "type": "float"
        }
       ],
       "ref": "505b933a-9207-4290-9b1f-2b9abf5d8176",
       "rows": [
        [
         "count",
         "2517",
         "2517.0",
         "2517.0",
         "2517.0",
         "2517.0",
         "2517.0"
        ],
        [
         "mean",
         "2018-06-28 23:41:41.549463552",
         "127.43482040932693",
         "128.67481340381718",
         "126.0572955981879",
         "127.3824800174974",
         "31248759.157727454"
        ],
        [
         "min",
         "2013-07-01 00:00:00",
         "25.740442276000977",
         "25.929579237698526",
         "25.45365411032187",
         "25.650592625842883",
         "7425600.0"
        ],
        [
         "25%",
         "2015-12-29 00:00:00",
         "45.45363235473633",
         "45.876480204812246",
         "44.91600855185718",
         "45.44476406858699",
         "22186700.0"
        ],
        [
         "50%",
         "2018-06-28 00:00:00",
         "94.19332885742188",
         "94.86385723756574",
         "92.88923021993523",
         "94.0722359463731",
         "27599700.0"
        ],
        [
         "75%",
         "2020-12-28 00:00:00",
         "212.82369995117188",
         "215.34125363665",
         "209.3963807274589",
         "213.45887580060662",
         "35410900.0"
        ],
        [
         "max",
         "2023-06-29 00:00:00",
         "342.77008056640625",
         "346.088476963345",
         "336.71425302671787",
         "345.94077969470817",
         "248428500.0"
        ],
        [
         "std",
         null,
         "93.52640469088992",
         "94.51658467066763",
         "92.4305576730886",
         "93.48528064071795",
         "15914350.581901416"
        ]
       ],
       "shape": {
        "columns": 6,
        "rows": 8
       }
      },
      "text/html": [
       "<div>\n",
       "<style scoped>\n",
       "    .dataframe tbody tr th:only-of-type {\n",
       "        vertical-align: middle;\n",
       "    }\n",
       "\n",
       "    .dataframe tbody tr th {\n",
       "        vertical-align: top;\n",
       "    }\n",
       "\n",
       "    .dataframe thead tr th {\n",
       "        text-align: left;\n",
       "    }\n",
       "</style>\n",
       "<table border=\"1\" class=\"dataframe\">\n",
       "  <thead>\n",
       "    <tr>\n",
       "      <th>Price</th>\n",
       "      <th>Date</th>\n",
       "      <th>Close</th>\n",
       "      <th>High</th>\n",
       "      <th>Low</th>\n",
       "      <th>Open</th>\n",
       "      <th>Volume</th>\n",
       "    </tr>\n",
       "    <tr>\n",
       "      <th>Ticker</th>\n",
       "      <th></th>\n",
       "      <th>MSFT</th>\n",
       "      <th>MSFT</th>\n",
       "      <th>MSFT</th>\n",
       "      <th>MSFT</th>\n",
       "      <th>MSFT</th>\n",
       "    </tr>\n",
       "  </thead>\n",
       "  <tbody>\n",
       "    <tr>\n",
       "      <th>count</th>\n",
       "      <td>2517</td>\n",
       "      <td>2517.000000</td>\n",
       "      <td>2517.000000</td>\n",
       "      <td>2517.000000</td>\n",
       "      <td>2517.000000</td>\n",
       "      <td>2.517000e+03</td>\n",
       "    </tr>\n",
       "    <tr>\n",
       "      <th>mean</th>\n",
       "      <td>2018-06-28 23:41:41.549463552</td>\n",
       "      <td>127.434820</td>\n",
       "      <td>128.674813</td>\n",
       "      <td>126.057296</td>\n",
       "      <td>127.382480</td>\n",
       "      <td>3.124876e+07</td>\n",
       "    </tr>\n",
       "    <tr>\n",
       "      <th>min</th>\n",
       "      <td>2013-07-01 00:00:00</td>\n",
       "      <td>25.740442</td>\n",
       "      <td>25.929579</td>\n",
       "      <td>25.453654</td>\n",
       "      <td>25.650593</td>\n",
       "      <td>7.425600e+06</td>\n",
       "    </tr>\n",
       "    <tr>\n",
       "      <th>25%</th>\n",
       "      <td>2015-12-29 00:00:00</td>\n",
       "      <td>45.453632</td>\n",
       "      <td>45.876480</td>\n",
       "      <td>44.916009</td>\n",
       "      <td>45.444764</td>\n",
       "      <td>2.218670e+07</td>\n",
       "    </tr>\n",
       "    <tr>\n",
       "      <th>50%</th>\n",
       "      <td>2018-06-28 00:00:00</td>\n",
       "      <td>94.193329</td>\n",
       "      <td>94.863857</td>\n",
       "      <td>92.889230</td>\n",
       "      <td>94.072236</td>\n",
       "      <td>2.759970e+07</td>\n",
       "    </tr>\n",
       "    <tr>\n",
       "      <th>75%</th>\n",
       "      <td>2020-12-28 00:00:00</td>\n",
       "      <td>212.823700</td>\n",
       "      <td>215.341254</td>\n",
       "      <td>209.396381</td>\n",
       "      <td>213.458876</td>\n",
       "      <td>3.541090e+07</td>\n",
       "    </tr>\n",
       "    <tr>\n",
       "      <th>max</th>\n",
       "      <td>2023-06-29 00:00:00</td>\n",
       "      <td>342.770081</td>\n",
       "      <td>346.088477</td>\n",
       "      <td>336.714253</td>\n",
       "      <td>345.940780</td>\n",
       "      <td>2.484285e+08</td>\n",
       "    </tr>\n",
       "    <tr>\n",
       "      <th>std</th>\n",
       "      <td>NaN</td>\n",
       "      <td>93.526405</td>\n",
       "      <td>94.516585</td>\n",
       "      <td>92.430558</td>\n",
       "      <td>93.485281</td>\n",
       "      <td>1.591435e+07</td>\n",
       "    </tr>\n",
       "  </tbody>\n",
       "</table>\n",
       "</div>"
      ],
      "text/plain": [
       "Price                            Date        Close         High          Low  \\\n",
       "Ticker                                        MSFT         MSFT         MSFT   \n",
       "count                            2517  2517.000000  2517.000000  2517.000000   \n",
       "mean    2018-06-28 23:41:41.549463552   127.434820   128.674813   126.057296   \n",
       "min               2013-07-01 00:00:00    25.740442    25.929579    25.453654   \n",
       "25%               2015-12-29 00:00:00    45.453632    45.876480    44.916009   \n",
       "50%               2018-06-28 00:00:00    94.193329    94.863857    92.889230   \n",
       "75%               2020-12-28 00:00:00   212.823700   215.341254   209.396381   \n",
       "max               2023-06-29 00:00:00   342.770081   346.088477   336.714253   \n",
       "std                               NaN    93.526405    94.516585    92.430558   \n",
       "\n",
       "Price          Open        Volume  \n",
       "Ticker         MSFT          MSFT  \n",
       "count   2517.000000  2.517000e+03  \n",
       "mean     127.382480  3.124876e+07  \n",
       "min       25.650593  7.425600e+06  \n",
       "25%       45.444764  2.218670e+07  \n",
       "50%       94.072236  2.759970e+07  \n",
       "75%      213.458876  3.541090e+07  \n",
       "max      345.940780  2.484285e+08  \n",
       "std       93.485281  1.591435e+07  "
      ]
     },
     "execution_count": 5,
     "metadata": {},
     "output_type": "execute_result"
    }
   ],
   "source": [
    "# Realizar análise estatística básica\n",
    "summary = msft.describe()\n",
    "summary"
   ]
  },
  {
   "cell_type": "code",
   "execution_count": null,
   "id": "e708ce3e",
   "metadata": {},
   "outputs": [
    {
     "data": {
      "text/plain": [
       "MultiIndex([(  'Date',     ''),\n",
       "            ( 'Close', 'MSFT'),\n",
       "            (  'High', 'MSFT'),\n",
       "            (   'Low', 'MSFT'),\n",
       "            (  'Open', 'MSFT'),\n",
       "            ('Volume', 'MSFT')],\n",
       "           names=['Price', 'Ticker'])"
      ]
     },
     "execution_count": 7,
     "metadata": {},
     "output_type": "execute_result"
    }
   ],
   "source": [
    "msft.columns"
   ]
  },
  {
   "cell_type": "code",
   "execution_count": null,
   "id": "df5e5e78",
   "metadata": {},
   "outputs": [],
   "source": [
    "msft.columns = msft.columns.droplevel('Ticker')"
   ]
  },
  {
   "cell_type": "code",
   "execution_count": null,
   "id": "5b35a355",
   "metadata": {},
   "outputs": [
    {
     "data": {
      "application/vnd.microsoft.datawrangler.viewer.v0+json": {
       "columns": [
        {
         "name": "index",
         "rawType": "int64",
         "type": "integer"
        },
        {
         "name": "Date",
         "rawType": "datetime64[ns]",
         "type": "datetime"
        },
        {
         "name": "Close",
         "rawType": "float64",
         "type": "float"
        },
        {
         "name": "High",
         "rawType": "float64",
         "type": "float"
        },
        {
         "name": "Low",
         "rawType": "float64",
         "type": "float"
        },
        {
         "name": "Open",
         "rawType": "float64",
         "type": "float"
        },
        {
         "name": "Volume",
         "rawType": "int64",
         "type": "integer"
        }
       ],
       "ref": "e148c42e-c5be-49b3-911a-4f50d0e77482",
       "rows": [
        [
         "0",
         "2013-07-01 00:00:00",
         "28.194316864013672",
         "28.711268244211166",
         "28.169701175014676",
         "28.51433334169695",
         "31055400"
        ],
        [
         "1",
         "2013-07-02 00:00:00",
         "27.849679946899414",
         "28.25995810060834",
         "27.595309494911174",
         "28.235342413041455",
         "37630000"
        ],
        [
         "2",
         "2013-07-03 00:00:00",
         "27.90711784362793",
         "28.202518606717593",
         "27.570689892369995",
         "27.61992439627621",
         "15994400"
        ],
        [
         "3",
         "2013-07-05 00:00:00",
         "28.071226119995117",
         "28.095844933872204",
         "27.554277981177467",
         "27.972760255007007",
         "26085900"
        ],
        [
         "4",
         "2013-07-08 00:00:00",
         "28.169702529907227",
         "28.383045815232666",
         "27.882505913684472",
         "28.18611090324637",
         "32396900"
        ]
       ],
       "shape": {
        "columns": 6,
        "rows": 5
       }
      },
      "text/html": [
       "<div>\n",
       "<style scoped>\n",
       "    .dataframe tbody tr th:only-of-type {\n",
       "        vertical-align: middle;\n",
       "    }\n",
       "\n",
       "    .dataframe tbody tr th {\n",
       "        vertical-align: top;\n",
       "    }\n",
       "\n",
       "    .dataframe thead th {\n",
       "        text-align: right;\n",
       "    }\n",
       "</style>\n",
       "<table border=\"1\" class=\"dataframe\">\n",
       "  <thead>\n",
       "    <tr style=\"text-align: right;\">\n",
       "      <th>Price</th>\n",
       "      <th>Date</th>\n",
       "      <th>Close</th>\n",
       "      <th>High</th>\n",
       "      <th>Low</th>\n",
       "      <th>Open</th>\n",
       "      <th>Volume</th>\n",
       "    </tr>\n",
       "  </thead>\n",
       "  <tbody>\n",
       "    <tr>\n",
       "      <th>0</th>\n",
       "      <td>2013-07-01</td>\n",
       "      <td>28.194317</td>\n",
       "      <td>28.711268</td>\n",
       "      <td>28.169701</td>\n",
       "      <td>28.514333</td>\n",
       "      <td>31055400</td>\n",
       "    </tr>\n",
       "    <tr>\n",
       "      <th>1</th>\n",
       "      <td>2013-07-02</td>\n",
       "      <td>27.849680</td>\n",
       "      <td>28.259958</td>\n",
       "      <td>27.595309</td>\n",
       "      <td>28.235342</td>\n",
       "      <td>37630000</td>\n",
       "    </tr>\n",
       "    <tr>\n",
       "      <th>2</th>\n",
       "      <td>2013-07-03</td>\n",
       "      <td>27.907118</td>\n",
       "      <td>28.202519</td>\n",
       "      <td>27.570690</td>\n",
       "      <td>27.619924</td>\n",
       "      <td>15994400</td>\n",
       "    </tr>\n",
       "    <tr>\n",
       "      <th>3</th>\n",
       "      <td>2013-07-05</td>\n",
       "      <td>28.071226</td>\n",
       "      <td>28.095845</td>\n",
       "      <td>27.554278</td>\n",
       "      <td>27.972760</td>\n",
       "      <td>26085900</td>\n",
       "    </tr>\n",
       "    <tr>\n",
       "      <th>4</th>\n",
       "      <td>2013-07-08</td>\n",
       "      <td>28.169703</td>\n",
       "      <td>28.383046</td>\n",
       "      <td>27.882506</td>\n",
       "      <td>28.186111</td>\n",
       "      <td>32396900</td>\n",
       "    </tr>\n",
       "  </tbody>\n",
       "</table>\n",
       "</div>"
      ],
      "text/plain": [
       "Price       Date      Close       High        Low       Open    Volume\n",
       "0     2013-07-01  28.194317  28.711268  28.169701  28.514333  31055400\n",
       "1     2013-07-02  27.849680  28.259958  27.595309  28.235342  37630000\n",
       "2     2013-07-03  27.907118  28.202519  27.570690  27.619924  15994400\n",
       "3     2013-07-05  28.071226  28.095845  27.554278  27.972760  26085900\n",
       "4     2013-07-08  28.169703  28.383046  27.882506  28.186111  32396900"
      ]
     },
     "execution_count": 9,
     "metadata": {},
     "output_type": "execute_result"
    }
   ],
   "source": [
    "msft.head()"
   ]
  },
  {
   "cell_type": "code",
   "execution_count": null,
   "id": "02f44dc7",
   "metadata": {},
   "outputs": [
    {
     "data": {
      "application/vnd.microsoft.datawrangler.viewer.v0+json": {
       "columns": [
        {
         "name": "Price",
         "rawType": "object",
         "type": "string"
        },
        {
         "name": "0",
         "rawType": "object",
         "type": "unknown"
        }
       ],
       "ref": "8c46a9e0-27ac-452c-a225-ffe711420d87",
       "rows": [
        [
         "Date",
         "datetime64[ns]"
        ],
        [
         "Close",
         "float64"
        ],
        [
         "High",
         "float64"
        ],
        [
         "Low",
         "float64"
        ],
        [
         "Open",
         "float64"
        ],
        [
         "Volume",
         "int64"
        ]
       ],
       "shape": {
        "columns": 1,
        "rows": 6
       }
      },
      "text/plain": [
       "Price\n",
       "Date      datetime64[ns]\n",
       "Close            float64\n",
       "High             float64\n",
       "Low              float64\n",
       "Open             float64\n",
       "Volume             int64\n",
       "dtype: object"
      ]
     },
     "execution_count": 10,
     "metadata": {},
     "output_type": "execute_result"
    }
   ],
   "source": [
    "msft.dtypes"
   ]
  },
  {
   "cell_type": "code",
   "execution_count": null,
   "id": "b6b58a8a",
   "metadata": {},
   "outputs": [
    {
     "data": {
      "text/plain": [
       "Index(['Date', 'Close', 'High', 'Low', 'Open', 'Volume'], dtype='object', name='Price')"
      ]
     },
     "execution_count": 11,
     "metadata": {},
     "output_type": "execute_result"
    }
   ],
   "source": [
    "msft.columns"
   ]
  },
  {
   "cell_type": "code",
   "execution_count": null,
   "id": "2ae0591f",
   "metadata": {},
   "outputs": [],
   "source": [
    "msft.index = msft['Date']"
   ]
  },
  {
   "cell_type": "code",
   "execution_count": null,
   "id": "97eebe42",
   "metadata": {},
   "outputs": [
    {
     "data": {
      "application/vnd.microsoft.datawrangler.viewer.v0+json": {
       "columns": [
        {
         "name": "Date",
         "rawType": "datetime64[ns]",
         "type": "datetime"
        },
        {
         "name": "Date",
         "rawType": "datetime64[ns]",
         "type": "datetime"
        },
        {
         "name": "Close",
         "rawType": "float64",
         "type": "float"
        },
        {
         "name": "High",
         "rawType": "float64",
         "type": "float"
        },
        {
         "name": "Low",
         "rawType": "float64",
         "type": "float"
        },
        {
         "name": "Open",
         "rawType": "float64",
         "type": "float"
        },
        {
         "name": "Volume",
         "rawType": "int64",
         "type": "integer"
        }
       ],
       "ref": "49863b07-0b3e-4163-99be-6edaf981690a",
       "rows": [
        [
         "2013-07-01 00:00:00",
         "2013-07-01 00:00:00",
         "28.194316864013672",
         "28.711268244211166",
         "28.169701175014676",
         "28.51433334169695",
         "31055400"
        ],
        [
         "2013-07-02 00:00:00",
         "2013-07-02 00:00:00",
         "27.849679946899414",
         "28.25995810060834",
         "27.595309494911174",
         "28.235342413041455",
         "37630000"
        ],
        [
         "2013-07-03 00:00:00",
         "2013-07-03 00:00:00",
         "27.90711784362793",
         "28.202518606717593",
         "27.570689892369995",
         "27.61992439627621",
         "15994400"
        ],
        [
         "2013-07-05 00:00:00",
         "2013-07-05 00:00:00",
         "28.071226119995117",
         "28.095844933872204",
         "27.554277981177467",
         "27.972760255007007",
         "26085900"
        ],
        [
         "2013-07-08 00:00:00",
         "2013-07-08 00:00:00",
         "28.169702529907227",
         "28.383045815232666",
         "27.882505913684472",
         "28.18611090324637",
         "32396900"
        ]
       ],
       "shape": {
        "columns": 6,
        "rows": 5
       }
      },
      "text/html": [
       "<div>\n",
       "<style scoped>\n",
       "    .dataframe tbody tr th:only-of-type {\n",
       "        vertical-align: middle;\n",
       "    }\n",
       "\n",
       "    .dataframe tbody tr th {\n",
       "        vertical-align: top;\n",
       "    }\n",
       "\n",
       "    .dataframe thead th {\n",
       "        text-align: right;\n",
       "    }\n",
       "</style>\n",
       "<table border=\"1\" class=\"dataframe\">\n",
       "  <thead>\n",
       "    <tr style=\"text-align: right;\">\n",
       "      <th>Price</th>\n",
       "      <th>Date</th>\n",
       "      <th>Close</th>\n",
       "      <th>High</th>\n",
       "      <th>Low</th>\n",
       "      <th>Open</th>\n",
       "      <th>Volume</th>\n",
       "    </tr>\n",
       "    <tr>\n",
       "      <th>Date</th>\n",
       "      <th></th>\n",
       "      <th></th>\n",
       "      <th></th>\n",
       "      <th></th>\n",
       "      <th></th>\n",
       "      <th></th>\n",
       "    </tr>\n",
       "  </thead>\n",
       "  <tbody>\n",
       "    <tr>\n",
       "      <th>2013-07-01</th>\n",
       "      <td>2013-07-01</td>\n",
       "      <td>28.194317</td>\n",
       "      <td>28.711268</td>\n",
       "      <td>28.169701</td>\n",
       "      <td>28.514333</td>\n",
       "      <td>31055400</td>\n",
       "    </tr>\n",
       "    <tr>\n",
       "      <th>2013-07-02</th>\n",
       "      <td>2013-07-02</td>\n",
       "      <td>27.849680</td>\n",
       "      <td>28.259958</td>\n",
       "      <td>27.595309</td>\n",
       "      <td>28.235342</td>\n",
       "      <td>37630000</td>\n",
       "    </tr>\n",
       "    <tr>\n",
       "      <th>2013-07-03</th>\n",
       "      <td>2013-07-03</td>\n",
       "      <td>27.907118</td>\n",
       "      <td>28.202519</td>\n",
       "      <td>27.570690</td>\n",
       "      <td>27.619924</td>\n",
       "      <td>15994400</td>\n",
       "    </tr>\n",
       "    <tr>\n",
       "      <th>2013-07-05</th>\n",
       "      <td>2013-07-05</td>\n",
       "      <td>28.071226</td>\n",
       "      <td>28.095845</td>\n",
       "      <td>27.554278</td>\n",
       "      <td>27.972760</td>\n",
       "      <td>26085900</td>\n",
       "    </tr>\n",
       "    <tr>\n",
       "      <th>2013-07-08</th>\n",
       "      <td>2013-07-08</td>\n",
       "      <td>28.169703</td>\n",
       "      <td>28.383046</td>\n",
       "      <td>27.882506</td>\n",
       "      <td>28.186111</td>\n",
       "      <td>32396900</td>\n",
       "    </tr>\n",
       "  </tbody>\n",
       "</table>\n",
       "</div>"
      ],
      "text/plain": [
       "Price            Date      Close       High        Low       Open    Volume\n",
       "Date                                                                       \n",
       "2013-07-01 2013-07-01  28.194317  28.711268  28.169701  28.514333  31055400\n",
       "2013-07-02 2013-07-02  27.849680  28.259958  27.595309  28.235342  37630000\n",
       "2013-07-03 2013-07-03  27.907118  28.202519  27.570690  27.619924  15994400\n",
       "2013-07-05 2013-07-05  28.071226  28.095845  27.554278  27.972760  26085900\n",
       "2013-07-08 2013-07-08  28.169703  28.383046  27.882506  28.186111  32396900"
      ]
     },
     "execution_count": 13,
     "metadata": {},
     "output_type": "execute_result"
    }
   ],
   "source": [
    "msft.head()"
   ]
  },
  {
   "cell_type": "code",
   "execution_count": null,
   "id": "a048dd3d",
   "metadata": {},
   "outputs": [],
   "source": [
    "msft.drop('Date', axis=1, inplace=True)"
   ]
  },
  {
   "cell_type": "code",
   "execution_count": null,
   "id": "be295058",
   "metadata": {},
   "outputs": [
    {
     "data": {
      "application/vnd.microsoft.datawrangler.viewer.v0+json": {
       "columns": [
        {
         "name": "Date",
         "rawType": "datetime64[ns]",
         "type": "datetime"
        },
        {
         "name": "Close",
         "rawType": "float64",
         "type": "float"
        },
        {
         "name": "High",
         "rawType": "float64",
         "type": "float"
        },
        {
         "name": "Low",
         "rawType": "float64",
         "type": "float"
        },
        {
         "name": "Open",
         "rawType": "float64",
         "type": "float"
        },
        {
         "name": "Volume",
         "rawType": "int64",
         "type": "integer"
        }
       ],
       "ref": "92421b80-72bd-4444-8f59-06d8b0a99b16",
       "rows": [
        [
         "2013-07-01 00:00:00",
         "28.194316864013672",
         "28.711268244211166",
         "28.169701175014676",
         "28.51433334169695",
         "31055400"
        ],
        [
         "2013-07-02 00:00:00",
         "27.849679946899414",
         "28.25995810060834",
         "27.595309494911174",
         "28.235342413041455",
         "37630000"
        ],
        [
         "2013-07-03 00:00:00",
         "27.90711784362793",
         "28.202518606717593",
         "27.570689892369995",
         "27.61992439627621",
         "15994400"
        ],
        [
         "2013-07-05 00:00:00",
         "28.071226119995117",
         "28.095844933872204",
         "27.554277981177467",
         "27.972760255007007",
         "26085900"
        ],
        [
         "2013-07-08 00:00:00",
         "28.169702529907227",
         "28.383045815232666",
         "27.882505913684472",
         "28.18611090324637",
         "32396900"
        ]
       ],
       "shape": {
        "columns": 5,
        "rows": 5
       }
      },
      "text/html": [
       "<div>\n",
       "<style scoped>\n",
       "    .dataframe tbody tr th:only-of-type {\n",
       "        vertical-align: middle;\n",
       "    }\n",
       "\n",
       "    .dataframe tbody tr th {\n",
       "        vertical-align: top;\n",
       "    }\n",
       "\n",
       "    .dataframe thead th {\n",
       "        text-align: right;\n",
       "    }\n",
       "</style>\n",
       "<table border=\"1\" class=\"dataframe\">\n",
       "  <thead>\n",
       "    <tr style=\"text-align: right;\">\n",
       "      <th>Price</th>\n",
       "      <th>Close</th>\n",
       "      <th>High</th>\n",
       "      <th>Low</th>\n",
       "      <th>Open</th>\n",
       "      <th>Volume</th>\n",
       "    </tr>\n",
       "    <tr>\n",
       "      <th>Date</th>\n",
       "      <th></th>\n",
       "      <th></th>\n",
       "      <th></th>\n",
       "      <th></th>\n",
       "      <th></th>\n",
       "    </tr>\n",
       "  </thead>\n",
       "  <tbody>\n",
       "    <tr>\n",
       "      <th>2013-07-01</th>\n",
       "      <td>28.194317</td>\n",
       "      <td>28.711268</td>\n",
       "      <td>28.169701</td>\n",
       "      <td>28.514333</td>\n",
       "      <td>31055400</td>\n",
       "    </tr>\n",
       "    <tr>\n",
       "      <th>2013-07-02</th>\n",
       "      <td>27.849680</td>\n",
       "      <td>28.259958</td>\n",
       "      <td>27.595309</td>\n",
       "      <td>28.235342</td>\n",
       "      <td>37630000</td>\n",
       "    </tr>\n",
       "    <tr>\n",
       "      <th>2013-07-03</th>\n",
       "      <td>27.907118</td>\n",
       "      <td>28.202519</td>\n",
       "      <td>27.570690</td>\n",
       "      <td>27.619924</td>\n",
       "      <td>15994400</td>\n",
       "    </tr>\n",
       "    <tr>\n",
       "      <th>2013-07-05</th>\n",
       "      <td>28.071226</td>\n",
       "      <td>28.095845</td>\n",
       "      <td>27.554278</td>\n",
       "      <td>27.972760</td>\n",
       "      <td>26085900</td>\n",
       "    </tr>\n",
       "    <tr>\n",
       "      <th>2013-07-08</th>\n",
       "      <td>28.169703</td>\n",
       "      <td>28.383046</td>\n",
       "      <td>27.882506</td>\n",
       "      <td>28.186111</td>\n",
       "      <td>32396900</td>\n",
       "    </tr>\n",
       "  </tbody>\n",
       "</table>\n",
       "</div>"
      ],
      "text/plain": [
       "Price           Close       High        Low       Open    Volume\n",
       "Date                                                            \n",
       "2013-07-01  28.194317  28.711268  28.169701  28.514333  31055400\n",
       "2013-07-02  27.849680  28.259958  27.595309  28.235342  37630000\n",
       "2013-07-03  27.907118  28.202519  27.570690  27.619924  15994400\n",
       "2013-07-05  28.071226  28.095845  27.554278  27.972760  26085900\n",
       "2013-07-08  28.169703  28.383046  27.882506  28.186111  32396900"
      ]
     },
     "execution_count": 15,
     "metadata": {},
     "output_type": "execute_result"
    }
   ],
   "source": [
    "msft.head()"
   ]
  },
  {
   "cell_type": "code",
   "execution_count": null,
   "id": "b7b82aac",
   "metadata": {},
   "outputs": [
    {
     "data": {
      "text/plain": [
       "127.43482040932693"
      ]
     },
     "execution_count": 16,
     "metadata": {},
     "output_type": "execute_result"
    }
   ],
   "source": [
    "mean_close = msft['Close'].mean()\n",
    "mean_close"
   ]
  },
  {
   "cell_type": "code",
   "execution_count": null,
   "id": "1632b2a0",
   "metadata": {},
   "outputs": [
    {
     "data": {
      "text/plain": [
       "93.52640469088992"
      ]
     },
     "execution_count": 17,
     "metadata": {},
     "output_type": "execute_result"
    }
   ],
   "source": [
    "std_close = msft['Close'].std()\n",
    "std_close"
   ]
  },
  {
   "cell_type": "code",
   "execution_count": null,
   "id": "cf9e2e56",
   "metadata": {},
   "outputs": [
    {
     "data": {
      "text/plain": [
       "25.740442276000977"
      ]
     },
     "execution_count": 18,
     "metadata": {},
     "output_type": "execute_result"
    }
   ],
   "source": [
    "min_close = msft['Close'].min()\n",
    "min_close"
   ]
  },
  {
   "cell_type": "code",
   "execution_count": null,
   "id": "1c53e8de",
   "metadata": {},
   "outputs": [
    {
     "data": {
      "text/plain": [
       "342.77008056640625"
      ]
     },
     "execution_count": 19,
     "metadata": {},
     "output_type": "execute_result"
    }
   ],
   "source": [
    "max_close = msft['Close'].max()\n",
    "max_close"
   ]
  },
  {
   "cell_type": "code",
   "execution_count": null,
   "id": "1b832299",
   "metadata": {},
   "outputs": [],
   "source": [
    "stats = pd.DataFrame(\n",
    "    { \"mean_close\" : [mean_close],\n",
    "      \"std_close\" : [std_close],\n",
    "      \"min_close\" : [min_close],\n",
    "      \"max_close\" : [max_close] \n",
    "     }\n",
    ")"
   ]
  },
  {
   "cell_type": "code",
   "execution_count": null,
   "id": "d11960d4",
   "metadata": {},
   "outputs": [
    {
     "data": {
      "application/vnd.microsoft.datawrangler.viewer.v0+json": {
       "columns": [
        {
         "name": "index",
         "rawType": "int64",
         "type": "integer"
        },
        {
         "name": "mean_close",
         "rawType": "float64",
         "type": "float"
        },
        {
         "name": "std_close",
         "rawType": "float64",
         "type": "float"
        },
        {
         "name": "min_close",
         "rawType": "float64",
         "type": "float"
        },
        {
         "name": "max_close",
         "rawType": "float64",
         "type": "float"
        }
       ],
       "ref": "bb90e570-7311-445a-916d-0382763bf2ec",
       "rows": [
        [
         "0",
         "127.43482040932693",
         "93.52640469088992",
         "25.740442276000977",
         "342.77008056640625"
        ]
       ],
       "shape": {
        "columns": 4,
        "rows": 1
       }
      },
      "text/html": [
       "<div>\n",
       "<style scoped>\n",
       "    .dataframe tbody tr th:only-of-type {\n",
       "        vertical-align: middle;\n",
       "    }\n",
       "\n",
       "    .dataframe tbody tr th {\n",
       "        vertical-align: top;\n",
       "    }\n",
       "\n",
       "    .dataframe thead th {\n",
       "        text-align: right;\n",
       "    }\n",
       "</style>\n",
       "<table border=\"1\" class=\"dataframe\">\n",
       "  <thead>\n",
       "    <tr style=\"text-align: right;\">\n",
       "      <th></th>\n",
       "      <th>mean_close</th>\n",
       "      <th>std_close</th>\n",
       "      <th>min_close</th>\n",
       "      <th>max_close</th>\n",
       "    </tr>\n",
       "  </thead>\n",
       "  <tbody>\n",
       "    <tr>\n",
       "      <th>0</th>\n",
       "      <td>127.43482</td>\n",
       "      <td>93.526405</td>\n",
       "      <td>25.740442</td>\n",
       "      <td>342.770081</td>\n",
       "    </tr>\n",
       "  </tbody>\n",
       "</table>\n",
       "</div>"
      ],
      "text/plain": [
       "   mean_close  std_close  min_close   max_close\n",
       "0   127.43482  93.526405  25.740442  342.770081"
      ]
     },
     "execution_count": 21,
     "metadata": {},
     "output_type": "execute_result"
    }
   ],
   "source": [
    "stats"
   ]
  },
  {
   "cell_type": "code",
   "execution_count": null,
   "id": "74703c7c",
   "metadata": {},
   "outputs": [],
   "source": [
    "# Salvar estatísticas adicionais em CSV\n",
    "stats.to_csv('script_stats.csv', header=True, index=False)"
   ]
  },
  {
   "cell_type": "code",
   "execution_count": null,
   "id": "37e21e4e",
   "metadata": {},
   "outputs": [],
   "source": [
    "close_prices = msft['Close']"
   ]
  },
  {
   "cell_type": "code",
   "execution_count": null,
   "id": "7db7d137",
   "metadata": {},
   "outputs": [
    {
     "data": {
      "application/vnd.microsoft.datawrangler.viewer.v0+json": {
       "columns": [
        {
         "name": "Date",
         "rawType": "datetime64[ns]",
         "type": "datetime"
        },
        {
         "name": "Close",
         "rawType": "float64",
         "type": "float"
        }
       ],
       "ref": "fc41111c-7d50-4775-85d0-d6b18c88b899",
       "rows": [
        [
         "2013-07-01 00:00:00",
         "28.194316864013672"
        ],
        [
         "2013-07-02 00:00:00",
         "27.849679946899414"
        ],
        [
         "2013-07-03 00:00:00",
         "27.90711784362793"
        ],
        [
         "2013-07-05 00:00:00",
         "28.071226119995117"
        ],
        [
         "2013-07-08 00:00:00",
         "28.169702529907227"
        ]
       ],
       "shape": {
        "columns": 1,
        "rows": 5
       }
      },
      "text/plain": [
       "Date\n",
       "2013-07-01    28.194317\n",
       "2013-07-02    27.849680\n",
       "2013-07-03    27.907118\n",
       "2013-07-05    28.071226\n",
       "2013-07-08    28.169703\n",
       "Name: Close, dtype: float64"
      ]
     },
     "execution_count": 24,
     "metadata": {},
     "output_type": "execute_result"
    }
   ],
   "source": [
    "close_prices.head()"
   ]
  },
  {
   "cell_type": "code",
   "execution_count": 32,
   "id": "051a3f07",
   "metadata": {},
   "outputs": [],
   "source": [
    "from scipy import stats"
   ]
  },
  {
   "cell_type": "code",
   "execution_count": 33,
   "id": "1bfb08dc",
   "metadata": {},
   "outputs": [
    {
     "name": "stdout",
     "output_type": "stream",
     "text": [
      "\n",
      "Teste Shapiro-Wilk: W=0.8625917928590552, p-value=2.0087916804114243e-42\n"
     ]
    }
   ],
   "source": [
    "shapiro_test = stats.shapiro(close_prices)\n",
    "print(f\"\\nTeste Shapiro-Wilk: W={shapiro_test[0]}, p-value={shapiro_test[1]}\")"
   ]
  },
  {
   "cell_type": "code",
   "execution_count": 34,
   "id": "5d5587c0",
   "metadata": {},
   "outputs": [
    {
     "name": "stdout",
     "output_type": "stream",
     "text": [
      "\n",
      "Teste Anderson-Darling: Statistic=130.88709233566306, Critical Values=[0.575 0.655 0.786 0.917 1.09 ], Significance Level=[15.  10.   5.   2.5  1. ]\n"
     ]
    }
   ],
   "source": [
    "# Teste de Normalidade (Anderson-Darling)\n",
    "ad_test = stats.anderson(close_prices)\n",
    "print(f\"\\nTeste Anderson-Darling: Statistic={ad_test.statistic}, Critical Values={ad_test.critical_values}, Significance Level={ad_test.significance_level}\")"
   ]
  },
  {
   "cell_type": "code",
   "execution_count": 35,
   "id": "70f1f1ec",
   "metadata": {},
   "outputs": [
    {
     "name": "stdout",
     "output_type": "stream",
     "text": [
      "\n",
      "Teste de Levene: Statistic=2041.119457815999, p-value=0.0\n"
     ]
    }
   ],
   "source": [
    "# Teste de Homogeneidade de Variância (Levene)\n",
    "# Assumindo que estamos comparando entre duas partes dos dados\n",
    "split_index = len(close_prices) // 2\n",
    "levene_test = stats.levene(close_prices[:split_index], close_prices[split_index:])\n",
    "print(f\"\\nTeste de Levene: Statistic={levene_test.statistic}, p-value={levene_test.pvalue}\")"
   ]
  },
  {
   "cell_type": "code",
   "execution_count": 36,
   "id": "b9438d3e",
   "metadata": {},
   "outputs": [],
   "source": [
    "stats_adv = pd.DataFrame(\n",
    "    { \"shapiro-wilk\" : [shapiro_test],\n",
    "      \"anderson\" : [ad_test],\n",
    "      \"levene\" : [levene_test],\n",
    "     }\n",
    ")"
   ]
  },
  {
   "cell_type": "code",
   "execution_count": 37,
   "id": "cabc80a3",
   "metadata": {},
   "outputs": [
    {
     "data": {
      "application/vnd.microsoft.datawrangler.viewer.v0+json": {
       "columns": [
        {
         "name": "index",
         "rawType": "int64",
         "type": "integer"
        },
        {
         "name": "shapiro-wilk",
         "rawType": "object",
         "type": "unknown"
        },
        {
         "name": "anderson",
         "rawType": "object",
         "type": "unknown"
        },
        {
         "name": "levene",
         "rawType": "object",
         "type": "unknown"
        }
       ],
       "ref": "14cf9ab6-a0f9-48a8-b3d0-0db9ce4d9374",
       "rows": [
        [
         "0",
         "ShapiroResult(statistic=0.8625917928590552, pvalue=2.0087916804114243e-42)",
         "AndersonResult(statistic=130.88709233566306, critical_values=array([0.575, 0.655, 0.786, 0.917, 1.09 ]), significance_level=array([15. , 10. ,  5. ,  2.5,  1. ]), fit_result=  params: FitParams(loc=127.43482040932693, scale=93.52640469088992)\n success: True\n message: '`anderson` successfully fit the distribution to the data.')",
         "LeveneResult(statistic=2041.119457815999, pvalue=0.0)"
        ]
       ],
       "shape": {
        "columns": 3,
        "rows": 1
       }
      },
      "text/html": [
       "<div>\n",
       "<style scoped>\n",
       "    .dataframe tbody tr th:only-of-type {\n",
       "        vertical-align: middle;\n",
       "    }\n",
       "\n",
       "    .dataframe tbody tr th {\n",
       "        vertical-align: top;\n",
       "    }\n",
       "\n",
       "    .dataframe thead th {\n",
       "        text-align: right;\n",
       "    }\n",
       "</style>\n",
       "<table border=\"1\" class=\"dataframe\">\n",
       "  <thead>\n",
       "    <tr style=\"text-align: right;\">\n",
       "      <th></th>\n",
       "      <th>shapiro-wilk</th>\n",
       "      <th>anderson</th>\n",
       "      <th>levene</th>\n",
       "    </tr>\n",
       "  </thead>\n",
       "  <tbody>\n",
       "    <tr>\n",
       "      <th>0</th>\n",
       "      <td>(0.8625917928590552, 2.0087916804114243e-42)</td>\n",
       "      <td>(130.88709233566306, [0.575, 0.655, 0.786, 0.9...</td>\n",
       "      <td>(2041.119457815999, 0.0)</td>\n",
       "    </tr>\n",
       "  </tbody>\n",
       "</table>\n",
       "</div>"
      ],
      "text/plain": [
       "                                   shapiro-wilk  \\\n",
       "0  (0.8625917928590552, 2.0087916804114243e-42)   \n",
       "\n",
       "                                            anderson                    levene  \n",
       "0  (130.88709233566306, [0.575, 0.655, 0.786, 0.9...  (2041.119457815999, 0.0)  "
      ]
     },
     "execution_count": 37,
     "metadata": {},
     "output_type": "execute_result"
    }
   ],
   "source": [
    "stats_adv"
   ]
  },
  {
   "cell_type": "code",
   "execution_count": 38,
   "id": "89a2b7f3",
   "metadata": {},
   "outputs": [],
   "source": [
    "stats_adv.to_csv('script2_stats_adv.csv', header=True, index=False)"
   ]
  },
  {
   "cell_type": "code",
   "execution_count": 39,
   "id": "dbb08dba",
   "metadata": {},
   "outputs": [
    {
     "name": "stdout",
     "output_type": "stream",
     "text": [
      "\n",
      "Teste ADF: Statistic=0.8248963222838871, p-value=0.992027595788992, Critical Values={'1%': -3.4329757705711432, '5%': -2.862700050059295, '10%': -2.567387539813443}\n"
     ]
    }
   ],
   "source": [
    "# Teste de Dickey-Fuller Aumentado (ADF)\n",
    "adf_test = adfuller(close_prices)\n",
    "print(f\"\\nTeste ADF: Statistic={adf_test[0]}, p-value={adf_test[1]}, Critical Values={adf_test[4]}\")"
   ]
  },
  {
   "cell_type": "code",
   "execution_count": 40,
   "id": "c65492f4",
   "metadata": {},
   "outputs": [
    {
     "name": "stdout",
     "output_type": "stream",
     "text": [
      "\n",
      "Teste KPSS: Statistic=7.582794595967422, p-value=0.01, Critical Values={'10%': 0.347, '5%': 0.463, '2.5%': 0.574, '1%': 0.739}\n"
     ]
    },
    {
     "name": "stderr",
     "output_type": "stream",
     "text": [
      "C:\\Users\\User\\AppData\\Local\\Temp\\ipykernel_38044\\2084047125.py:2: InterpolationWarning: The test statistic is outside of the range of p-values available in the\n",
      "look-up table. The actual p-value is smaller than the p-value returned.\n",
      "\n",
      "  kpss_test = kpss(close_prices)\n"
     ]
    }
   ],
   "source": [
    "# Teste KPSS\n",
    "kpss_test = kpss(close_prices)\n",
    "print(f\"\\nTeste KPSS: Statistic={kpss_test[0]}, p-value={kpss_test[1]}, Critical Values={kpss_test[3]}\")"
   ]
  },
  {
   "cell_type": "code",
   "execution_count": 41,
   "id": "fb5b33f7",
   "metadata": {},
   "outputs": [
    {
     "name": "stdout",
     "output_type": "stream",
     "text": [
      "\n",
      "Teste Phillips-Perron: Statistic=0.7993723715798502, p-value=0.9916260301702727\n"
     ]
    }
   ],
   "source": [
    "# Teste de Phillips-Perron\n",
    "pp_test = PhillipsPerron(close_prices)\n",
    "pp_test_statistic = pp_test.stat\n",
    "pp_test_pvalue = pp_test.pvalue\n",
    "print(f\"\\nTeste Phillips-Perron: Statistic={pp_test_statistic}, p-value={pp_test_pvalue}\")"
   ]
  },
  {
   "cell_type": "code",
   "execution_count": 42,
   "id": "758ca245",
   "metadata": {},
   "outputs": [
    {
     "name": "stdout",
     "output_type": "stream",
     "text": [
      "\n",
      "Teste Ljung-Box: Statistics=[ 2520.00119237  5032.73535449  7538.60403596 10037.77949527\n",
      " 12530.73066669 15017.16200746 17496.73259271 19970.10367462\n",
      " 22436.80377811 24897.05961993 27350.05331212 29796.42355946\n",
      " 32236.4470042  34670.23497106 37097.96288185 39519.48248191\n",
      " 41935.24114436 44344.58670612 46747.65695068 49144.30559841\n",
      " 51534.67158309 53918.9859879  56296.81110133 58668.27434393\n",
      " 61033.74996431 63393.92977679 65748.69656752 68097.99708624\n",
      " 70441.96669081 72780.49401807 75113.73418601 77441.773152\n",
      " 79764.71158743 82082.68793308 84395.72729926 86703.47616413\n",
      " 89006.05068875 91303.4826808  93595.79719867 95883.16245332\n",
      " 98165.72305842], p-values=[0. 0. 0. 0. 0. 0. 0. 0. 0. 0. 0. 0. 0. 0. 0. 0. 0. 0. 0. 0. 0. 0. 0. 0.\n",
      " 0. 0. 0. 0. 0. 0. 0. 0. 0. 0. 0. 0. 0. 0. 0. 0. 0.]\n"
     ]
    }
   ],
   "source": [
    "# Teste de Ljung-Box\n",
    "ljung_box_test = q_stat(acf(close_prices, fft=False, nlags=40), len(close_prices))\n",
    "print(f\"\\nTeste Ljung-Box: Statistics={ljung_box_test[0]}, p-values={ljung_box_test[1]}\")"
   ]
  },
  {
   "cell_type": "code",
   "execution_count": 43,
   "id": "39ff1b6c",
   "metadata": {},
   "outputs": [],
   "source": [
    "# ACF e PACF\n",
    "acf_vals = acf(close_prices, fft=False, nlags=40)\n",
    "pacf_vals = pacf(close_prices, nlags=40)"
   ]
  },
  {
   "cell_type": "code",
   "execution_count": 44,
   "id": "b6357299",
   "metadata": {},
   "outputs": [],
   "source": [
    "# Salvar ACF e PACF em CSV\n",
    "acf_df = pd.DataFrame({'Lag': np.arange(len(acf_vals)), 'ACF': acf_vals})\n",
    "pacf_df = pd.DataFrame({'Lag': np.arange(len(pacf_vals)), 'PACF': pacf_vals})"
   ]
  },
  {
   "cell_type": "code",
   "execution_count": 46,
   "id": "43c15362",
   "metadata": {},
   "outputs": [],
   "source": [
    "acf_df.to_csv('script2_acf.csv', index=False)\n",
    "pacf_df.to_csv('script2_pacf.csv', index=False)"
   ]
  },
  {
   "cell_type": "code",
   "execution_count": 47,
   "id": "5087ec71",
   "metadata": {},
   "outputs": [
    {
     "name": "stderr",
     "output_type": "stream",
     "text": [
      "[*********************100%***********************]  1 of 1 completed\n",
      "[*********************100%***********************]  1 of 1 completed\n"
     ]
    }
   ],
   "source": [
    "# Baixar dados de ações da Microsoft e Apple para os últimos 10 anos usando yfinance\n",
    "msft = yf.download('MSFT', start='2013-06-30', end='2023-06-30')\n",
    "aapl = yf.download('AAPL', start='2013-06-30', end='2023-06-30')"
   ]
  },
  {
   "cell_type": "code",
   "execution_count": 48,
   "id": "c1786ed2",
   "metadata": {},
   "outputs": [
    {
     "name": "stderr",
     "output_type": "stream",
     "text": [
      "[*********************100%***********************]  1 of 1 completed\n"
     ]
    }
   ],
   "source": [
    "aapl = yf.download('AAPL', start='2013-06-30', end='2023-06-30')"
   ]
  },
  {
   "cell_type": "code",
   "execution_count": 49,
   "id": "dfa8b747",
   "metadata": {},
   "outputs": [
    {
     "data": {
      "application/vnd.microsoft.datawrangler.viewer.v0+json": {
       "columns": [
        {
         "name": "Date",
         "rawType": "datetime64[ns]",
         "type": "datetime"
        },
        {
         "name": "('Close', 'AAPL')",
         "rawType": "float64",
         "type": "float"
        },
        {
         "name": "('High', 'AAPL')",
         "rawType": "float64",
         "type": "float"
        },
        {
         "name": "('Low', 'AAPL')",
         "rawType": "float64",
         "type": "float"
        },
        {
         "name": "('Open', 'AAPL')",
         "rawType": "float64",
         "type": "float"
        },
        {
         "name": "('Volume', 'AAPL')",
         "rawType": "int64",
         "type": "integer"
        }
       ],
       "ref": "cc0756d8-7d6b-44ea-952f-e4cf66ab7185",
       "rows": [
        [
         "2013-07-01 00:00:00",
         "12.562917709350586",
         "12.65655260847251",
         "12.317320487012886",
         "12.362449621161256",
         "391053600"
        ],
        [
         "2013-07-02 00:00:00",
         "12.847504615783691",
         "12.943902149161632",
         "12.57059462437504",
         "12.58563739752507",
         "469865200"
        ],
        [
         "2013-07-03 00:00:00",
         "12.918418884277344",
         "12.985344866575161",
         "12.815575520935962",
         "12.92026090635259",
         "240928800"
        ],
        [
         "2013-07-05 00:00:00",
         "12.814654350280762",
         "12.994861824532439",
         "12.751106636867416",
         "12.905833215131953",
         "274024800"
        ],
        [
         "2013-07-08 00:00:00",
         "12.741900444030762",
         "12.924564015679106",
         "12.606822051396575",
         "12.897241907191797",
         "298138400"
        ]
       ],
       "shape": {
        "columns": 5,
        "rows": 5
       }
      },
      "text/html": [
       "<div>\n",
       "<style scoped>\n",
       "    .dataframe tbody tr th:only-of-type {\n",
       "        vertical-align: middle;\n",
       "    }\n",
       "\n",
       "    .dataframe tbody tr th {\n",
       "        vertical-align: top;\n",
       "    }\n",
       "\n",
       "    .dataframe thead tr th {\n",
       "        text-align: left;\n",
       "    }\n",
       "\n",
       "    .dataframe thead tr:last-of-type th {\n",
       "        text-align: right;\n",
       "    }\n",
       "</style>\n",
       "<table border=\"1\" class=\"dataframe\">\n",
       "  <thead>\n",
       "    <tr>\n",
       "      <th>Price</th>\n",
       "      <th>Close</th>\n",
       "      <th>High</th>\n",
       "      <th>Low</th>\n",
       "      <th>Open</th>\n",
       "      <th>Volume</th>\n",
       "    </tr>\n",
       "    <tr>\n",
       "      <th>Ticker</th>\n",
       "      <th>AAPL</th>\n",
       "      <th>AAPL</th>\n",
       "      <th>AAPL</th>\n",
       "      <th>AAPL</th>\n",
       "      <th>AAPL</th>\n",
       "    </tr>\n",
       "    <tr>\n",
       "      <th>Date</th>\n",
       "      <th></th>\n",
       "      <th></th>\n",
       "      <th></th>\n",
       "      <th></th>\n",
       "      <th></th>\n",
       "    </tr>\n",
       "  </thead>\n",
       "  <tbody>\n",
       "    <tr>\n",
       "      <th>2013-07-01</th>\n",
       "      <td>12.562918</td>\n",
       "      <td>12.656553</td>\n",
       "      <td>12.317320</td>\n",
       "      <td>12.362450</td>\n",
       "      <td>391053600</td>\n",
       "    </tr>\n",
       "    <tr>\n",
       "      <th>2013-07-02</th>\n",
       "      <td>12.847505</td>\n",
       "      <td>12.943902</td>\n",
       "      <td>12.570595</td>\n",
       "      <td>12.585637</td>\n",
       "      <td>469865200</td>\n",
       "    </tr>\n",
       "    <tr>\n",
       "      <th>2013-07-03</th>\n",
       "      <td>12.918419</td>\n",
       "      <td>12.985345</td>\n",
       "      <td>12.815576</td>\n",
       "      <td>12.920261</td>\n",
       "      <td>240928800</td>\n",
       "    </tr>\n",
       "    <tr>\n",
       "      <th>2013-07-05</th>\n",
       "      <td>12.814654</td>\n",
       "      <td>12.994862</td>\n",
       "      <td>12.751107</td>\n",
       "      <td>12.905833</td>\n",
       "      <td>274024800</td>\n",
       "    </tr>\n",
       "    <tr>\n",
       "      <th>2013-07-08</th>\n",
       "      <td>12.741900</td>\n",
       "      <td>12.924564</td>\n",
       "      <td>12.606822</td>\n",
       "      <td>12.897242</td>\n",
       "      <td>298138400</td>\n",
       "    </tr>\n",
       "  </tbody>\n",
       "</table>\n",
       "</div>"
      ],
      "text/plain": [
       "Price           Close       High        Low       Open     Volume\n",
       "Ticker           AAPL       AAPL       AAPL       AAPL       AAPL\n",
       "Date                                                             \n",
       "2013-07-01  12.562918  12.656553  12.317320  12.362450  391053600\n",
       "2013-07-02  12.847505  12.943902  12.570595  12.585637  469865200\n",
       "2013-07-03  12.918419  12.985345  12.815576  12.920261  240928800\n",
       "2013-07-05  12.814654  12.994862  12.751107  12.905833  274024800\n",
       "2013-07-08  12.741900  12.924564  12.606822  12.897242  298138400"
      ]
     },
     "execution_count": 49,
     "metadata": {},
     "output_type": "execute_result"
    }
   ],
   "source": [
    "aapl.head()"
   ]
  },
  {
   "cell_type": "code",
   "execution_count": 50,
   "id": "8d1f1241",
   "metadata": {},
   "outputs": [],
   "source": [
    "# Manter apenas a coluna de fechamento ajustado\n",
    "msft_close = msft[['Close']]\n",
    "aapl_close = aapl[['Close']]"
   ]
  },
  {
   "cell_type": "code",
   "execution_count": 51,
   "id": "2179b190",
   "metadata": {},
   "outputs": [
    {
     "data": {
      "application/vnd.microsoft.datawrangler.viewer.v0+json": {
       "columns": [
        {
         "name": "Date",
         "rawType": "datetime64[ns]",
         "type": "datetime"
        },
        {
         "name": "('Close', 'AAPL')",
         "rawType": "float64",
         "type": "float"
        }
       ],
       "ref": "2275169f-2b04-41a5-8b97-34b32c9f1dab",
       "rows": [
        [
         "2013-07-01 00:00:00",
         "12.562917709350586"
        ],
        [
         "2013-07-02 00:00:00",
         "12.847504615783691"
        ],
        [
         "2013-07-03 00:00:00",
         "12.918418884277344"
        ],
        [
         "2013-07-05 00:00:00",
         "12.814654350280762"
        ],
        [
         "2013-07-08 00:00:00",
         "12.741900444030762"
        ]
       ],
       "shape": {
        "columns": 1,
        "rows": 5
       }
      },
      "text/html": [
       "<div>\n",
       "<style scoped>\n",
       "    .dataframe tbody tr th:only-of-type {\n",
       "        vertical-align: middle;\n",
       "    }\n",
       "\n",
       "    .dataframe tbody tr th {\n",
       "        vertical-align: top;\n",
       "    }\n",
       "\n",
       "    .dataframe thead tr th {\n",
       "        text-align: left;\n",
       "    }\n",
       "\n",
       "    .dataframe thead tr:last-of-type th {\n",
       "        text-align: right;\n",
       "    }\n",
       "</style>\n",
       "<table border=\"1\" class=\"dataframe\">\n",
       "  <thead>\n",
       "    <tr>\n",
       "      <th>Price</th>\n",
       "      <th>Close</th>\n",
       "    </tr>\n",
       "    <tr>\n",
       "      <th>Ticker</th>\n",
       "      <th>AAPL</th>\n",
       "    </tr>\n",
       "    <tr>\n",
       "      <th>Date</th>\n",
       "      <th></th>\n",
       "    </tr>\n",
       "  </thead>\n",
       "  <tbody>\n",
       "    <tr>\n",
       "      <th>2013-07-01</th>\n",
       "      <td>12.562918</td>\n",
       "    </tr>\n",
       "    <tr>\n",
       "      <th>2013-07-02</th>\n",
       "      <td>12.847505</td>\n",
       "    </tr>\n",
       "    <tr>\n",
       "      <th>2013-07-03</th>\n",
       "      <td>12.918419</td>\n",
       "    </tr>\n",
       "    <tr>\n",
       "      <th>2013-07-05</th>\n",
       "      <td>12.814654</td>\n",
       "    </tr>\n",
       "    <tr>\n",
       "      <th>2013-07-08</th>\n",
       "      <td>12.741900</td>\n",
       "    </tr>\n",
       "  </tbody>\n",
       "</table>\n",
       "</div>"
      ],
      "text/plain": [
       "Price           Close\n",
       "Ticker           AAPL\n",
       "Date                 \n",
       "2013-07-01  12.562918\n",
       "2013-07-02  12.847505\n",
       "2013-07-03  12.918419\n",
       "2013-07-05  12.814654\n",
       "2013-07-08  12.741900"
      ]
     },
     "execution_count": 51,
     "metadata": {},
     "output_type": "execute_result"
    }
   ],
   "source": [
    "aapl_close.head()"
   ]
  },
  {
   "cell_type": "code",
   "execution_count": 52,
   "id": "a1bf84c3",
   "metadata": {},
   "outputs": [
    {
     "data": {
      "application/vnd.microsoft.datawrangler.viewer.v0+json": {
       "columns": [
        {
         "name": "Date",
         "rawType": "datetime64[ns]",
         "type": "datetime"
        },
        {
         "name": "('Close', 'MSFT')",
         "rawType": "float64",
         "type": "float"
        }
       ],
       "ref": "07706a07-61ed-43b6-826e-15d3e5cd2ac8",
       "rows": [
        [
         "2013-07-01 00:00:00",
         "28.194316864013672"
        ],
        [
         "2013-07-02 00:00:00",
         "27.849679946899414"
        ],
        [
         "2013-07-03 00:00:00",
         "27.90711784362793"
        ],
        [
         "2013-07-05 00:00:00",
         "28.071226119995117"
        ],
        [
         "2013-07-08 00:00:00",
         "28.169702529907227"
        ]
       ],
       "shape": {
        "columns": 1,
        "rows": 5
       }
      },
      "text/html": [
       "<div>\n",
       "<style scoped>\n",
       "    .dataframe tbody tr th:only-of-type {\n",
       "        vertical-align: middle;\n",
       "    }\n",
       "\n",
       "    .dataframe tbody tr th {\n",
       "        vertical-align: top;\n",
       "    }\n",
       "\n",
       "    .dataframe thead tr th {\n",
       "        text-align: left;\n",
       "    }\n",
       "\n",
       "    .dataframe thead tr:last-of-type th {\n",
       "        text-align: right;\n",
       "    }\n",
       "</style>\n",
       "<table border=\"1\" class=\"dataframe\">\n",
       "  <thead>\n",
       "    <tr>\n",
       "      <th>Price</th>\n",
       "      <th>Close</th>\n",
       "    </tr>\n",
       "    <tr>\n",
       "      <th>Ticker</th>\n",
       "      <th>MSFT</th>\n",
       "    </tr>\n",
       "    <tr>\n",
       "      <th>Date</th>\n",
       "      <th></th>\n",
       "    </tr>\n",
       "  </thead>\n",
       "  <tbody>\n",
       "    <tr>\n",
       "      <th>2013-07-01</th>\n",
       "      <td>28.194317</td>\n",
       "    </tr>\n",
       "    <tr>\n",
       "      <th>2013-07-02</th>\n",
       "      <td>27.849680</td>\n",
       "    </tr>\n",
       "    <tr>\n",
       "      <th>2013-07-03</th>\n",
       "      <td>27.907118</td>\n",
       "    </tr>\n",
       "    <tr>\n",
       "      <th>2013-07-05</th>\n",
       "      <td>28.071226</td>\n",
       "    </tr>\n",
       "    <tr>\n",
       "      <th>2013-07-08</th>\n",
       "      <td>28.169703</td>\n",
       "    </tr>\n",
       "  </tbody>\n",
       "</table>\n",
       "</div>"
      ],
      "text/plain": [
       "Price           Close\n",
       "Ticker           MSFT\n",
       "Date                 \n",
       "2013-07-01  28.194317\n",
       "2013-07-02  27.849680\n",
       "2013-07-03  27.907118\n",
       "2013-07-05  28.071226\n",
       "2013-07-08  28.169703"
      ]
     },
     "execution_count": 52,
     "metadata": {},
     "output_type": "execute_result"
    }
   ],
   "source": [
    "msft_close.head()"
   ]
  },
  {
   "cell_type": "code",
   "execution_count": 53,
   "id": "ef6147f4",
   "metadata": {},
   "outputs": [],
   "source": [
    "# Combinar os dois dataframes em um único dataframe\n",
    "combined_df = pd.concat([msft_close, aapl_close], axis=1)\n",
    "combined_df.columns = ['MSFT_Close', 'AAPL_Close']"
   ]
  },
  {
   "cell_type": "code",
   "execution_count": 54,
   "id": "dcd7377c",
   "metadata": {},
   "outputs": [],
   "source": [
    "# Remover NaNs\n",
    "combined_df.dropna(inplace=True)"
   ]
  },
  {
   "cell_type": "code",
   "execution_count": 55,
   "id": "baf90645",
   "metadata": {},
   "outputs": [
    {
     "data": {
      "application/vnd.microsoft.datawrangler.viewer.v0+json": {
       "columns": [
        {
         "name": "Date",
         "rawType": "datetime64[ns]",
         "type": "datetime"
        },
        {
         "name": "MSFT_Close",
         "rawType": "float64",
         "type": "float"
        },
        {
         "name": "AAPL_Close",
         "rawType": "float64",
         "type": "float"
        }
       ],
       "ref": "45474fb3-8d1c-4d65-97ba-8d313766e25d",
       "rows": [
        [
         "2013-07-01 00:00:00",
         "28.194316864013672",
         "12.562917709350586"
        ],
        [
         "2013-07-02 00:00:00",
         "27.849679946899414",
         "12.847504615783691"
        ],
        [
         "2013-07-03 00:00:00",
         "27.90711784362793",
         "12.918418884277344"
        ],
        [
         "2013-07-05 00:00:00",
         "28.071226119995117",
         "12.814654350280762"
        ],
        [
         "2013-07-08 00:00:00",
         "28.169702529907227",
         "12.741900444030762"
        ]
       ],
       "shape": {
        "columns": 2,
        "rows": 5
       }
      },
      "text/html": [
       "<div>\n",
       "<style scoped>\n",
       "    .dataframe tbody tr th:only-of-type {\n",
       "        vertical-align: middle;\n",
       "    }\n",
       "\n",
       "    .dataframe tbody tr th {\n",
       "        vertical-align: top;\n",
       "    }\n",
       "\n",
       "    .dataframe thead th {\n",
       "        text-align: right;\n",
       "    }\n",
       "</style>\n",
       "<table border=\"1\" class=\"dataframe\">\n",
       "  <thead>\n",
       "    <tr style=\"text-align: right;\">\n",
       "      <th></th>\n",
       "      <th>MSFT_Close</th>\n",
       "      <th>AAPL_Close</th>\n",
       "    </tr>\n",
       "    <tr>\n",
       "      <th>Date</th>\n",
       "      <th></th>\n",
       "      <th></th>\n",
       "    </tr>\n",
       "  </thead>\n",
       "  <tbody>\n",
       "    <tr>\n",
       "      <th>2013-07-01</th>\n",
       "      <td>28.194317</td>\n",
       "      <td>12.562918</td>\n",
       "    </tr>\n",
       "    <tr>\n",
       "      <th>2013-07-02</th>\n",
       "      <td>27.849680</td>\n",
       "      <td>12.847505</td>\n",
       "    </tr>\n",
       "    <tr>\n",
       "      <th>2013-07-03</th>\n",
       "      <td>27.907118</td>\n",
       "      <td>12.918419</td>\n",
       "    </tr>\n",
       "    <tr>\n",
       "      <th>2013-07-05</th>\n",
       "      <td>28.071226</td>\n",
       "      <td>12.814654</td>\n",
       "    </tr>\n",
       "    <tr>\n",
       "      <th>2013-07-08</th>\n",
       "      <td>28.169703</td>\n",
       "      <td>12.741900</td>\n",
       "    </tr>\n",
       "  </tbody>\n",
       "</table>\n",
       "</div>"
      ],
      "text/plain": [
       "            MSFT_Close  AAPL_Close\n",
       "Date                              \n",
       "2013-07-01   28.194317   12.562918\n",
       "2013-07-02   27.849680   12.847505\n",
       "2013-07-03   27.907118   12.918419\n",
       "2013-07-05   28.071226   12.814654\n",
       "2013-07-08   28.169703   12.741900"
      ]
     },
     "execution_count": 55,
     "metadata": {},
     "output_type": "execute_result"
    }
   ],
   "source": [
    "combined_df.head()"
   ]
  },
  {
   "cell_type": "code",
   "execution_count": 56,
   "id": "3988d139",
   "metadata": {},
   "outputs": [
    {
     "name": "stdout",
     "output_type": "stream",
     "text": [
      "\n",
      "Granger Causality\n",
      "number of lags (no zero) 1\n",
      "ssr based F test:         F=13.9833 , p=0.0002  , df_denom=2513, df_num=1\n",
      "ssr based chi2 test:   chi2=14.0000 , p=0.0002  , df=1\n",
      "likelihood ratio test: chi2=13.9612 , p=0.0002  , df=1\n",
      "parameter F test:         F=13.9833 , p=0.0002  , df_denom=2513, df_num=1\n",
      "\n",
      "Granger Causality\n",
      "number of lags (no zero) 2\n",
      "ssr based F test:         F=7.8494  , p=0.0004  , df_denom=2510, df_num=2\n",
      "ssr based chi2 test:   chi2=15.7300 , p=0.0004  , df=2\n",
      "likelihood ratio test: chi2=15.6810 , p=0.0004  , df=2\n",
      "parameter F test:         F=7.8494  , p=0.0004  , df_denom=2510, df_num=2\n",
      "\n",
      "Granger Causality\n",
      "number of lags (no zero) 3\n",
      "ssr based F test:         F=5.2908  , p=0.0012  , df_denom=2507, df_num=3\n",
      "ssr based chi2 test:   chi2=15.9168 , p=0.0012  , df=3\n",
      "likelihood ratio test: chi2=15.8667 , p=0.0012  , df=3\n",
      "parameter F test:         F=5.2908  , p=0.0012  , df_denom=2507, df_num=3\n",
      "\n",
      "Granger Causality\n",
      "number of lags (no zero) 4\n",
      "ssr based F test:         F=5.9271  , p=0.0001  , df_denom=2504, df_num=4\n",
      "ssr based chi2 test:   chi2=23.7934 , p=0.0001  , df=4\n",
      "likelihood ratio test: chi2=23.6815 , p=0.0001  , df=4\n",
      "parameter F test:         F=5.9271  , p=0.0001  , df_denom=2504, df_num=4\n",
      "\n",
      "Granger Causality\n",
      "number of lags (no zero) 5\n",
      "ssr based F test:         F=5.7756  , p=0.0000  , df_denom=2501, df_num=5\n",
      "ssr based chi2 test:   chi2=29.0052 , p=0.0000  , df=5\n",
      "likelihood ratio test: chi2=28.8390 , p=0.0000  , df=5\n",
      "parameter F test:         F=5.7756  , p=0.0000  , df_denom=2501, df_num=5\n"
     ]
    }
   ],
   "source": [
    "# Aplicar o Teste de Causalidade de Granger\n",
    "# O parâmetro 'maxlag' define o número máximo de lags a serem testados\n",
    "maxlag = 5\n",
    "test_result = grangercausalitytests(combined_df[['AAPL_Close', 'MSFT_Close']], maxlag = maxlag)"
   ]
  }
 ],
 "metadata": {
  "kernelspec": {
   "display_name": "base",
   "language": "python",
   "name": "python3"
  },
  "language_info": {
   "codemirror_mode": {
    "name": "ipython",
    "version": 3
   },
   "file_extension": ".py",
   "mimetype": "text/x-python",
   "name": "python",
   "nbconvert_exporter": "python",
   "pygments_lexer": "ipython3",
   "version": "3.12.4"
  }
 },
 "nbformat": 4,
 "nbformat_minor": 5
}
